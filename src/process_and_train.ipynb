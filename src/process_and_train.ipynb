{
 "cells": [
  {
   "cell_type": "code",
   "execution_count": null,
   "metadata": {},
   "outputs": [
    {
     "name": "stderr",
     "output_type": "stream",
     "text": [
      "[nltk_data] Downloading package wordnet to\n",
      "[nltk_data]     C:\\Users\\Minh\\AppData\\Roaming\\nltk_data...\n",
      "[nltk_data]   Package wordnet is already up-to-date!\n"
     ]
    }
   ],
   "source": [
    "import numpy as np\n",
    "import pandas as pd\n",
    "from datasets import load_dataset\n",
    "\n",
    "import nltk\n",
    "nltk.download('wordnet')\n",
    "from nltk.stem import WordNetLemmatizer\n",
    "\n",
    "import tensorflow as tf\n",
    "from tensorflow import keras as keras\n",
    "from keras.callbacks import EarlyStopping\n",
    "from keras.preprocessing.text import Tokenizer\n",
    "from tensorflow.keras.utils import to_categorical\n",
    "from keras.preprocessing.sequence import pad_sequences\n",
    "from transformers import DistilBertTokenizer, TFDistilBertForSequenceClassification\n",
    "\n",
    "\n",
    "from sklearn.metrics import accuracy_score, f1_score\n",
    "from sklearn.model_selection import train_test_split\n",
    "from sklearn.metrics import confusion_matrix\n",
    "\n",
    "import seaborn as sns\n",
    "import matplotlib.pyplot as plt\n"
   ]
  },
  {
   "cell_type": "code",
   "execution_count": null,
   "metadata": {},
   "outputs": [],
   "source": [
    "df = pd.read_csv('repos.whole.csv')\n",
    "df = df[['description', 'label']]\n",
    "df['label'] = df['label'].astype(int)\n",
    "df['description'] = df['description'].astype(str)"
   ]
  },
  {
   "cell_type": "code",
   "execution_count": null,
   "metadata": {},
   "outputs": [
    {
     "data": {
      "image/png": "[encoded data removed]",
      "text/plain": [
       "<Figure size 432x288 with 1 Axes>"
      ]
     },
     "metadata": {
      "needs_background": "light"
     },
     "output_type": "display_data"
    }
   ],
   "source": [
    "df[\"label\"].value_counts(ascending=True).plot.barh()\n",
    "plt.title(\"Frequency of Classes\")\n",
    "plt.show()"
   ]
  },
  {
   "cell_type": "code",
   "execution_count": null,
   "metadata": {},
   "outputs": [
    {
     "data": {
      "image/png": "[encoded data removed]",
      "text/plain": [
       "<Figure size 432x288 with 1 Axes>"
      ]
     },
     "metadata": {
      "needs_background": "light"
     },
     "output_type": "display_data"
    }
   ],
   "source": [
    "df[\"Words Per Description\"] = df[\"description\"].str.split().apply(len)\n",
    "df.boxplot(\"Words Per Description\", by=\"label\", grid=False,\n",
    " showfliers=False, color=\"black\")\n",
    "plt.suptitle(\"\")\n",
    "plt.xlabel(\"\")\n",
    "plt.show()"
   ]
  },
  {
   "cell_type": "code",
   "execution_count": 5,
   "metadata": {},
   "outputs": [],
   "source": [
    "train_set, temp_set = train_test_split(df, test_size=0.4, stratify=df['label'], random_state=42)\n",
    "val_set, test_set = train_test_split(temp_set, test_size=0.5, stratify=temp_set['label'], random_state=42)"
   ]
  },
  {
   "attachments": {},
   "cell_type": "markdown",
   "metadata": {},
   "source": [
    "# LSTM training"
   ]
  },
  {
   "cell_type": "code",
   "execution_count": 6,
   "metadata": {},
   "outputs": [],
   "source": [
    "lstm_train_set = train_set.copy()\n",
    "lstm_test_set = test_set.copy()\n",
    "lstm_val_set = val_set.copy()\n",
    "# label encoding\n",
    "lstm_train_y = to_categorical(lstm_train_set['label'], num_classes=7)\n",
    "lstm_val_y = to_categorical(lstm_val_set['label'], num_classes=7)\n",
    "lstm_test_y = to_categorical(lstm_test_set['label'], num_classes=7)"
   ]
  },
  {
   "cell_type": "code",
   "execution_count": 7,
   "metadata": {},
   "outputs": [],
   "source": [
    "# data preprocessing\n",
    "\n",
    "# convert description to str\n",
    "lstm_train_set['description'] = lstm_train_set['description'].astype(str)\n",
    "lstm_test_set['description'] = lstm_test_set['description'].astype(str)\n",
    "\n",
    "lstm_train_set['description'] = lstm_train_set['description'].apply(lambda x :x.lower())\n",
    "lemm = WordNetLemmatizer()\n",
    "lstm_train_set['description'] = lstm_train_set['description'].apply(lambda x: lemm.lemmatize(x))\n",
    "\n",
    "lstm_val_set['description'] = lstm_val_set['description'].apply(lambda x :x.lower())\n",
    "lemm = WordNetLemmatizer()\n",
    "lstm_val_set['description'] = lstm_val_set['description'].apply(lambda x: lemm.lemmatize(x))\n",
    "\n",
    "lstm_test_set['description'] = lstm_test_set['description'].apply(lambda x :x.lower())\n",
    "lemm = WordNetLemmatizer()\n",
    "lstm_test_set['description'] = lstm_test_set['description'].apply(lambda x: lemm.lemmatize(x))"
   ]
  },
  {
   "cell_type": "code",
   "execution_count": 8,
   "metadata": {},
   "outputs": [],
   "source": [
    "# tokenizer\n",
    "lstm_train_token = Tokenizer(num_words=10000,oov_token=\"<OOV>\",\n",
    "                  filters='!\"#$%&()*+,-./:;<=>?@[\\]^_`{|}~')\n",
    "lstm_train_token.fit_on_texts(lstm_train_set['description'])\n",
    "lstm_train_word_index = lstm_train_token.word_index\n",
    "lstm_train_seq = lstm_train_token.texts_to_sequences(lstm_train_set['description'])\n",
    "\n",
    "lstm_val_token = Tokenizer(num_words=10000,oov_token=\"<OOV>\",\n",
    "                  filters='!\"#$%&()*+,-./:;<=>?@[\\]^_`{|}~')\n",
    "lstm_val_token.fit_on_texts(lstm_train_set['description'])\n",
    "lstm_val_word_index = lstm_val_token.word_index\n",
    "lstm_val_seq = lstm_val_token.texts_to_sequences(lstm_val_set['description'])\n",
    "\n",
    "lstm_test_token = Tokenizer(num_words=10000,oov_token=\"<OOV>\",\n",
    "                  filters='!\"#$%&()*+,-./:;<=>?@[\\]^_`{|}~')\n",
    "lstm_test_token.fit_on_texts(lstm_train_set['description'])\n",
    "lstm_test_word_index = lstm_test_token.word_index\n",
    "lstm_test_seq = lstm_test_token.texts_to_sequences(lstm_test_set['description'])"
   ]
  },
  {
   "cell_type": "code",
   "execution_count": 9,
   "metadata": {},
   "outputs": [],
   "source": [
    "# Padding\n",
    "lstm_train_padd = pad_sequences(lstm_train_seq,padding=\"post\",truncating=\"post\",maxlen=35)\n",
    "lstm_val_padd = pad_sequences(lstm_val_seq,padding=\"post\",truncating=\"post\",maxlen=35)\n",
    "lstm_test_padd = pad_sequences(lstm_test_seq,padding=\"post\",truncating=\"post\",maxlen=35)"
   ]
  },
  {
   "cell_type": "code",
   "execution_count": 10,
   "metadata": {},
   "outputs": [
    {
     "name": "stdout",
     "output_type": "stream",
     "text": [
      "Model: \"sequential\"\n",
      "_________________________________________________________________\n",
      " Layer (type)                Output Shape              Param #   \n",
      "=================================================================\n",
      " embedding (Embedding)       (None, None, 128)         3840000   \n",
      "                                                                 \n",
      " bidirectional (Bidirectiona  (None, None, 128)        98816     \n",
      " l)                                                              \n",
      "                                                                 \n",
      " bidirectional_1 (Bidirectio  (None, 128)              98816     \n",
      " nal)                                                            \n",
      "                                                                 \n",
      " dense (Dense)               (None, 128)               16512     \n",
      "                                                                 \n",
      " dropout (Dropout)           (None, 128)               0         \n",
      "                                                                 \n",
      " dense_1 (Dense)             (None, 7)                 903       \n",
      "                                                                 \n",
      "=================================================================\n",
      "Total params: 4,055,047\n",
      "Trainable params: 4,055,047\n",
      "Non-trainable params: 0\n",
      "_________________________________________________________________\n"
     ]
    }
   ],
   "source": [
    "# Model\n",
    "lstm_model = keras.models.Sequential()\n",
    "\n",
    "lstm_model.add(keras.layers.Embedding(30000,128))\n",
    "\n",
    "lstm_model.add(keras.layers.Bidirectional(keras.layers.LSTM(64,return_sequences=True, dropout=0.3)))\n",
    "\n",
    "lstm_model.add(keras.layers.Bidirectional(keras.layers.LSTM(64, dropout=0.3)))\n",
    "\n",
    "lstm_model.add(keras.layers.Dense(128,activation=\"gelu\"))\n",
    "\n",
    "lstm_model.add(keras.layers.Dropout(0.3))\n",
    "\n",
    "lstm_model.add(keras.layers.Dense(7,activation=\"softmax\"))\n",
    "\n",
    "lstm_model.compile(optimizer='adam', loss='categorical_crossentropy', metrics=['accuracy'])\n",
    "\n",
    "lstm_model.summary()"
   ]
  },
  {
   "cell_type": "code",
   "execution_count": 13,
   "metadata": {},
   "outputs": [
    {
     "name": "stdout",
     "output_type": "stream",
     "text": [
      "Epoch 1/30\n",
      "132/132 [==============================] - 3s 19ms/step - loss: 0.1055 - accuracy: 0.9634 - val_loss: 0.5525 - val_accuracy: 0.8594\n",
      "Epoch 2/30\n",
      "132/132 [==============================] - 2s 18ms/step - loss: 0.0998 - accuracy: 0.9623 - val_loss: 0.6214 - val_accuracy: 0.8548\n",
      "Epoch 3/30\n",
      "132/132 [==============================] - 2s 17ms/step - loss: 0.0896 - accuracy: 0.9648 - val_loss: 0.5694 - val_accuracy: 0.8569\n",
      "Epoch 4/30\n",
      "132/132 [==============================] - 2s 18ms/step - loss: 0.0874 - accuracy: 0.9628 - val_loss: 0.6574 - val_accuracy: 0.8544\n",
      "Epoch 5/30\n",
      "132/132 [==============================] - 2s 17ms/step - loss: 0.0770 - accuracy: 0.9666 - val_loss: 0.6863 - val_accuracy: 0.8573\n",
      "Epoch 6/30\n",
      "132/132 [==============================] - 2s 18ms/step - loss: 0.0733 - accuracy: 0.9673 - val_loss: 0.6861 - val_accuracy: 0.8609\n",
      "Epoch 7/30\n",
      "132/132 [==============================] - 2s 18ms/step - loss: 0.0713 - accuracy: 0.9676 - val_loss: 0.7122 - val_accuracy: 0.8494\n"
     ]
    }
   ],
   "source": [
    "callbacks = [EarlyStopping(monitor='val_loss',patience=6, min_delta=0.01)]\n",
    "\n",
    "history = lstm_model.fit(lstm_train_padd, lstm_train_y, epochs=30, batch_size=64,\n",
    "                    validation_data=(lstm_val_padd, lstm_val_y), callbacks=callbacks)"
   ]
  },
  {
   "cell_type": "code",
   "execution_count": 14,
   "metadata": {},
   "outputs": [
    {
     "name": "stdout",
     "output_type": "stream",
     "text": [
      "88/88 [==============================] - 1s 8ms/step - loss: 0.6460 - accuracy: 0.8662\n",
      "Test Loss: 0.6460420489311218\n",
      "Test Accuracy: 0.866237461566925\n"
     ]
    }
   ],
   "source": [
    "lstm_test_loss, lstm_test_accuracy = lstm_model.evaluate(lstm_test_padd,lstm_test_y)\n",
    "\n",
    "print(f'Test Loss: {lstm_test_loss}')\n",
    "print(f'Test Accuracy: {lstm_test_accuracy}')"
   ]
  },
  {
   "attachments": {},
   "cell_type": "markdown",
   "metadata": {},
   "source": [
    "# Distill Bert training"
   ]
  },
  {
   "cell_type": "code",
   "execution_count": 15,
   "metadata": {},
   "outputs": [
    {
     "name": "stderr",
     "output_type": "stream",
     "text": [
      "Some layers from the model checkpoint at distilbert-base-uncased were not used when initializing TFDistilBertForSequenceClassification: ['vocab_layer_norm', 'activation_13', 'vocab_transform', 'vocab_projector']\n",
      "- This IS expected if you are initializing TFDistilBertForSequenceClassification from the checkpoint of a model trained on another task or with another architecture (e.g. initializing a BertForSequenceClassification model from a BertForPreTraining model).\n",
      "- This IS NOT expected if you are initializing TFDistilBertForSequenceClassification from the checkpoint of a model that you expect to be exactly identical (initializing a BertForSequenceClassification model from a BertForSequenceClassification model).\n",
      "Some layers of TFDistilBertForSequenceClassification were not initialized from the model checkpoint at distilbert-base-uncased and are newly initialized: ['pre_classifier', 'dropout_20', 'classifier']\n",
      "You should probably TRAIN this model on a down-stream task to be able to use it for predictions and inference.\n"
     ]
    }
   ],
   "source": [
    "model_ckpt = \"distilbert-base-uncased\"\n",
    "tokenizer = DistilBertTokenizer.from_pretrained(model_ckpt)\n",
    "d_bert_model = (TFDistilBertForSequenceClassification\n",
    "        .from_pretrained(model_ckpt, num_labels=len(df['label'].unique())))\n"
   ]
  },
  {
   "cell_type": "code",
   "execution_count": 16,
   "metadata": {},
   "outputs": [
    {
     "name": "stderr",
     "output_type": "stream",
     "text": [
      "Truncation was not explicitly activated but `max_length` is provided a specific value, please use `truncation=True` to explicitly truncate examples to max length. Defaulting to 'longest_first' truncation strategy. If you encode pairs of sequences (GLUE-style) with the tokenizer you can select this strategy more precisely by providing a specific strategy to `truncation`.\n",
      "c:\\Users\\Minh\\anaconda3\\lib\\site-packages\\transformers\\tokenization_utils_base.py:2339: FutureWarning: The `pad_to_max_length` argument is deprecated and will be removed in a future version, use `padding=True` or `padding='longest'` to pad to the longest sequence in the batch, or use `padding='max_length'` to pad to a max length. In this case, you can give a specific length with `max_length` (e.g. `max_length=45`) or leave max_length to None to pad to the maximal input size of the model (e.g. 512 for Bert).\n",
      "  warnings.warn(\n"
     ]
    }
   ],
   "source": [
    "def encode_data(tokenizer, text, max_length):\n",
    "    return tokenizer.batch_encode_plus(\n",
    "        text,\n",
    "        add_special_tokens=True,\n",
    "        max_length=max_length,\n",
    "        pad_to_max_length=True,\n",
    "        return_attention_mask=True,\n",
    "        return_tensors='tf'\n",
    "    )\n",
    "\n",
    "MAX_LENGTH = 36\n",
    "d_bert_train_encodings = encode_data(tokenizer, train_set['description'].tolist(), MAX_LENGTH)\n",
    "d_bert_test_encodings = encode_data(tokenizer, test_set['description'].tolist(), MAX_LENGTH)\n",
    "d_bert_val_encodings = encode_data(tokenizer, val_set['description'].tolist(), MAX_LENGTH)\n",
    "\n",
    "d_bert_train_dataset = tf.data.Dataset.from_tensor_slices((\n",
    "    dict(d_bert_train_encodings),\n",
    "    train_set['label'].tolist()\n",
    "))\n",
    "\n",
    "d_bert_test_dataset = tf.data.Dataset.from_tensor_slices((\n",
    "    dict(d_bert_test_encodings),\n",
    "    test_set['label'].tolist()\n",
    "))\n",
    "\n",
    "d_bert_val_dataset = tf.data.Dataset.from_tensor_slices((\n",
    "    dict(d_bert_val_encodings),\n",
    "    val_set['label'].tolist()\n",
    "))\n",
    "\n",
    "BATCH_SIZE = 32 \n",
    "d_bert_train_dataset = d_bert_train_dataset.shuffle(len(train_set)).batch(BATCH_SIZE).repeat(-1)\n",
    "d_bert_val_dataset = d_bert_val_dataset.batch(BATCH_SIZE)\n",
    "d_bert_test_dataset = d_bert_test_dataset.batch(BATCH_SIZE)\n",
    "\n",
    "d_bert_optimizer = tf.keras.optimizers.Adam(learning_rate=2e-5)"
   ]
  },
  {
   "cell_type": "code",
   "execution_count": 19,
   "metadata": {},
   "outputs": [
    {
     "name": "stdout",
     "output_type": "stream",
     "text": [
      "Epoch 1/16\n"
     ]
    },
    {
     "name": "stderr",
     "output_type": "stream",
     "text": [
      "C:\\Users\\Minh\\AppData\\Roaming\\Python\\Python39\\site-packages\\tensorflow\\python\\autograph\\impl\\api.py:377: FutureWarning: The old compute_loss method is deprecated as it conflicts with the Keras compute_loss method added in TF 2.8. If you want the original HF compute_loss, please call hf_compute_loss() instead. From TF versions >= 2.8, or Transformers versions >= 5, calling compute_loss() will get the Keras method instead.\n",
      "  return py_builtins.overload_of(f)(*args)\n"
     ]
    },
    {
     "name": "stdout",
     "output_type": "stream",
     "text": [
      "262/262 [==============================] - 29s 90ms/step - loss: 0.1853 - accuracy: 0.9442 - val_loss: 0.3793 - val_accuracy: 0.8908\n",
      "Epoch 2/16\n",
      "262/262 [==============================] - 23s 86ms/step - loss: 0.1564 - accuracy: 0.9514 - val_loss: 0.4003 - val_accuracy: 0.8940\n",
      "Epoch 3/16\n",
      "262/262 [==============================] - 22s 86ms/step - loss: 0.1410 - accuracy: 0.9565 - val_loss: 0.4284 - val_accuracy: 0.8815\n",
      "Epoch 4/16\n",
      "262/262 [==============================] - 23s 86ms/step - loss: 0.1179 - accuracy: 0.9600 - val_loss: 0.4431 - val_accuracy: 0.8811\n",
      "Epoch 5/16\n",
      "262/262 [==============================] - 23s 86ms/step - loss: 0.1112 - accuracy: 0.9617 - val_loss: 0.4741 - val_accuracy: 0.8718\n",
      "Epoch 6/16\n",
      "262/262 [==============================] - 23s 87ms/step - loss: 0.0958 - accuracy: 0.9642 - val_loss: 0.4713 - val_accuracy: 0.8790\n",
      "Epoch 7/16\n",
      "262/262 [==============================] - 23s 87ms/step - loss: 0.0894 - accuracy: 0.9654 - val_loss: 0.5071 - val_accuracy: 0.8718\n"
     ]
    }
   ],
   "source": [
    "d_bert_model.compile(optimizer=d_bert_optimizer, loss=d_bert_model.compute_loss, metrics=['accuracy'])\n",
    "history = d_bert_model.fit(\n",
    "    d_bert_train_dataset,\n",
    "    epochs=16,\n",
    "    steps_per_epoch=len(train_set) // BATCH_SIZE,\n",
    "    validation_data=d_bert_val_dataset,\n",
    "    validation_steps=len(val_set) // BATCH_SIZE,\n",
    "    callbacks=callbacks\n",
    ")"
   ]
  },
  {
   "cell_type": "code",
   "execution_count": 22,
   "metadata": {},
   "outputs": [
    {
     "name": "stdout",
     "output_type": "stream",
     "text": [
      "88/88 [==============================] - 3s 28ms/step - loss: 0.4591 - accuracy: 0.8798\n",
      "Test Loss: 0.4591134190559387\n",
      "Test Accuracy: 0.8798283338546753\n"
     ]
    }
   ],
   "source": [
    "d_bert_test_loss, d_bert_test_accuracy = d_bert_model.evaluate(d_bert_test_dataset)\n",
    "\n",
    "print(f'Test Loss: {d_bert_test_loss}')\n",
    "print(f'Test Accuracy: {d_bert_test_accuracy}')"
   ]
  },
  {
   "cell_type": "code",
   "execution_count": 23,
   "metadata": {},
   "outputs": [],
   "source": [
    "def get_predictions(model, dataset):\n",
    "    all_labels = []\n",
    "    all_predictions = []\n",
    "    \n",
    "    for batch in dataset:\n",
    "        inputs = batch[0]\n",
    "        labels = batch[1].numpy()\n",
    "        predictions = np.argmax(model(inputs, training=False).logits, axis=1)\n",
    "        \n",
    "        all_labels.extend(labels)\n",
    "        all_predictions.extend(predictions)\n",
    "    \n",
    "    return np.array(all_labels), np.array(all_predictions)\n",
    "\n",
    "true_labels, predicted_labels = get_predictions(d_bert_model, d_bert_test_dataset)"
   ]
  },
  {
   "cell_type": "code",
   "execution_count": 25,
   "metadata": {},
   "outputs": [
    {
     "data": {
      "image/png": "[encoded data removed]",
      "text/plain": [
       "<Figure size 720x720 with 1 Axes>"
      ]
     },
     "metadata": {
      "needs_background": "light"
     },
     "output_type": "display_data"
    }
   ],
   "source": [
    "def plot_confusion_matrix(y_true, y_pred, class_names):\n",
    "    cm = confusion_matrix(y_true, y_pred)\n",
    "    cm_normalized = cm.astype('float') / cm.sum(axis=1)[:, np.newaxis]\n",
    "\n",
    "    plt.figure(figsize=(10, 10))\n",
    "    sns.heatmap(cm_normalized, annot=cm, xticklabels=class_names, yticklabels=class_names, fmt='d', cmap='Blues', cbar=False)\n",
    "    plt.xlabel('Predicted Label')\n",
    "    plt.ylabel('True Label')\n",
    "    plt.title('Confusion Matrix')\n",
    "    plt.show()\n",
    "\n",
    "class_names = ['database', 'framework', 'library', 'programming language', 'platform', 'plugin', 'toolkit']  # Replace this with your actual class names\n",
    "\n",
    "plot_confusion_matrix(true_labels, predicted_labels, class_names)"
   ]
  },
  {
   "cell_type": "code",
   "execution_count": 12,
   "metadata": {},
   "outputs": [
    {
     "name": "stdout",
     "output_type": "stream",
     "text": [
      "{'DistilBert': {'accuracy': 0.8866237482117311, 'model_size': 66958855, 'time_taken': 0.05701398849487305}}\n"
     ]
    }
   ],
   "source": [
    "from performance_benchmark import PerformanceBenchmark\n",
    "\n",
    "benchmark = PerformanceBenchmark(d_bert_model, tokenizer, d_bert_test_dataset, optim_type=\"DistilBert\")\n",
    "metrics = benchmark.run_benchmark()\n",
    "print(metrics)"
   ]
  },
  {
   "cell_type": "code",
   "execution_count": 1,
   "metadata": {},
   "outputs": [
    {
     "ename": "NameError",
     "evalue": "name 'd_bert_model' is not defined",
     "output_type": "error",
     "traceback": [
      "\u001b[1;31m---------------------------------------------------------------------------\u001b[0m",
      "\u001b[1;31mNameError\u001b[0m                                 Traceback (most recent call last)",
      "\u001b[1;32m~\\AppData\\Local\\Temp\\ipykernel_39220\\3487891657.py\u001b[0m in \u001b[0;36m<module>\u001b[1;34m\u001b[0m\n\u001b[0;32m      1\u001b[0m \u001b[1;31m# save\u001b[0m\u001b[1;33m\u001b[0m\u001b[1;33m\u001b[0m\u001b[0m\n\u001b[0;32m      2\u001b[0m \u001b[0msave_directory\u001b[0m \u001b[1;33m=\u001b[0m \u001b[1;34m\"saved_model/distilbert_github_app_classification_v1\"\u001b[0m\u001b[1;33m\u001b[0m\u001b[1;33m\u001b[0m\u001b[0m\n\u001b[1;32m----> 3\u001b[1;33m \u001b[0md_bert_model\u001b[0m\u001b[1;33m.\u001b[0m\u001b[0msave_pretrained\u001b[0m\u001b[1;33m(\u001b[0m\u001b[0msave_directory\u001b[0m\u001b[1;33m)\u001b[0m\u001b[1;33m\u001b[0m\u001b[1;33m\u001b[0m\u001b[0m\n\u001b[0m",
      "\u001b[1;31mNameError\u001b[0m: name 'd_bert_model' is not defined"
     ]
    }
   ],
   "source": [
    "# save \n",
    "save_directory = \"saved_model/distilbert_github_app_classification_v1\"\n",
    "d_bert_model.save_pretrained(save_directory)"
   ]
  },
  {
   "attachments": {},
   "cell_type": "markdown",
   "metadata": {},
   "source": [
    "# Knowledge Distillation\n"
   ]
  },
  {
   "cell_type": "code",
   "execution_count": 13,
   "metadata": {},
   "outputs": [],
   "source": [
    "# import numpy as np\n",
    "# from transformers import TFDistilBertForSequenceClassification, TFBertForSequenceClassification, DistilBertTokenizerFast, AutoConfig\n",
    "# from transformers import DistilBertConfig\n",
    "# from transformers import TFTrainer, TFTrainingArguments\n",
    "# from sklearn.metrics import accuracy_score\n"
   ]
  },
  {
   "cell_type": "code",
   "execution_count": null,
   "metadata": {},
   "outputs": [],
   "source": []
  },
  {
   "cell_type": "code",
   "execution_count": 14,
   "metadata": {},
   "outputs": [
    {
     "name": "stderr",
     "output_type": "stream",
     "text": [
      "Some layers from the model checkpoint at distilbert-base-uncased were not used when initializing TFDistilBertForSequenceClassification: ['vocab_layer_norm', 'vocab_projector', 'activation_13', 'vocab_transform']\n",
      "- This IS expected if you are initializing TFDistilBertForSequenceClassification from the checkpoint of a model trained on another task or with another architecture (e.g. initializing a BertForSequenceClassification model from a BertForPreTraining model).\n",
      "- This IS NOT expected if you are initializing TFDistilBertForSequenceClassification from the checkpoint of a model that you expect to be exactly identical (initializing a BertForSequenceClassification model from a BertForSequenceClassification model).\n",
      "Some layers of TFDistilBertForSequenceClassification were not initialized from the model checkpoint at distilbert-base-uncased and are newly initialized: ['pre_classifier', 'classifier', 'dropout_39']\n",
      "You should probably TRAIN this model on a down-stream task to be able to use it for predictions and inference.\n",
      "All model checkpoint layers were used when initializing TFBertForSequenceClassification.\n",
      "\n",
      "Some layers of TFBertForSequenceClassification were not initialized from the model checkpoint at bert-base-uncased and are newly initialized: ['classifier']\n",
      "You should probably TRAIN this model on a down-stream task to be able to use it for predictions and inference.\n"
     ]
    }
   ],
   "source": [
    "# student_ckpt = \"distilbert-base-uncased\"\n",
    "# student_model = (TFDistilBertForSequenceClassification\n",
    "#                 .from_pretrained(student_ckpt, num_labels=len(df['label'].unique())))\n",
    "# teacher_ckpt =\"bert-base-uncased\"\n",
    "# teacher_model = (TFBertForSequenceClassification\n",
    "#                 .from_pretrained(teacher_ckpt, num_labels=len(df['label'].unique())))"
   ]
  },
  {
   "cell_type": "code",
   "execution_count": 15,
   "metadata": {},
   "outputs": [
    {
     "name": "stderr",
     "output_type": "stream",
     "text": [
      "c:\\Users\\Minh\\anaconda3\\lib\\site-packages\\transformers\\trainer_tf.py:115: FutureWarning: The class `TFTrainer` is deprecated and will be removed in version 5 of Transformers. We recommend using native Keras instead, by calling methods like `fit()` and `predict()` directly on the model object. Detailed examples of the Keras style can be found in our examples at https://github.com/huggingface/transformers/tree/main/examples/tensorflow\n",
      "  warnings.warn(\n",
      "Failed to detect the name of this notebook, you can set it manually with the WANDB_NOTEBOOK_NAME environment variable to enable code saving.\n",
      "\u001b[34m\u001b[1mwandb\u001b[0m: Currently logged in as: \u001b[33mminhucincy\u001b[0m (use `wandb login --relogin` to force relogin)\n"
     ]
    }
   ],
   "source": [
    "# # fine-tuned teacher\n",
    "\n",
    "# teacher_training_args = TFTrainingArguments(\n",
    "#     output_dir='./res/training_res/',\n",
    "#     num_train_epochs=3,\n",
    "#     per_device_train_batch_size=BATCH_SIZE,\n",
    "#     per_device_eval_batch_size=BATCH_SIZE,\n",
    "#     weight_decay=0.01,\n",
    "#     logging_dir='./log/training_log/',\n",
    "# )\n",
    "\n",
    "# def compute_metrics(eval_preds):\n",
    "#     logits, labels = eval_preds\n",
    "#     preds = tf.argmax(logits, axis=-1).numpy()\n",
    "#     accuracy = accuracy_score(labels, preds)\n",
    "#     return {\"accuracy\": accuracy}\n",
    "\n",
    "# # Create the Trainer\n",
    "# teacher_trainer = TFTrainer(\n",
    "#     model=teacher_model,\n",
    "#     args=teacher_training_args,\n",
    "#     train_dataset=train_dataset,\n",
    "#     eval_dataset=val_dataset,\n",
    "#     compute_metrics=compute_metrics,\n",
    "# )\n",
    "\n",
    "# # Train the model\n",
    "# teacher_trainer.train()\n",
    "\n",
    "# # Evaluate the model\n",
    "# teacher_trainer.evaluate()"
   ]
  },
  {
   "cell_type": "code",
   "execution_count": null,
   "metadata": {},
   "outputs": [],
   "source": []
  }
 ],
 "metadata": {
  "kernelspec": {
   "display_name": "base",
   "language": "python",
   "name": "python3"
  },
  "language_info": {
   "codemirror_mode": {
    "name": "ipython",
    "version": 3
   },
   "file_extension": ".py",
   "mimetype": "text/x-python",
   "name": "python",
   "nbconvert_exporter": "python",
   "pygments_lexer": "ipython3",
   "version": "3.9.7"
  },
  "orig_nbformat": 4
 },
 "nbformat": 4,
 "nbformat_minor": 2
}
